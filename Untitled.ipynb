{
 "cells": [
  {
   "cell_type": "code",
   "execution_count": 23,
   "id": "b4395bc6",
   "metadata": {},
   "outputs": [],
   "source": [
    "from playwright.async_api import async_playwright\n",
    "from dataclasses import dataclass, field, asdict\n",
    "import pandas as pd\n",
    "import argparse\n",
    "import asyncio"
   ]
  },
  {
   "cell_type": "code",
   "execution_count": 24,
   "id": "4658fddc",
   "metadata": {},
   "outputs": [],
   "source": [
    "@dataclass\n",
    "class Business:\n",
    "    name: str = None\n",
    "    address: str = None\n",
    "    website: str = None\n",
    "    phone_number: str = None"
   ]
  },
  {
   "cell_type": "code",
   "execution_count": 25,
   "id": "fed4df84",
   "metadata": {},
   "outputs": [],
   "source": [
    "@dataclass\n",
    "class BusinessList:\n",
    "    business_list : list[Business] = field(default_factory=list)\n",
    "    \n",
    "    def dataframe(self):\n",
    "        return pd.json_normalize((asdict(business) for business in self.business_list), sep=\"_\")\n",
    "    def save_to_excel(self, filename):\n",
    "        return self.dataframe().to_excel(f'{filename}.xlsx', index=False)\n",
    "    def save_to_csv(self, filename):\n",
    "        return self.dataframe().to_csv(f'{filename}.csv', index=False)"
   ]
  },
  {
   "cell_type": "code",
   "execution_count": 36,
   "id": "36c69341",
   "metadata": {},
   "outputs": [],
   "source": [
    "async def main():\n",
    "    with async_playwright() as p:\n",
    "        browser= p.chromium.launch(headless=False)\n",
    "        page= browser.new_page()\n",
    "        \n",
    "        \n",
    "        page.goto('https://www.google.com/maps', timeout=60000)\n",
    "        page.wait_for_timeout(5000)\n",
    "        \n",
    "        page.locator('//input[@id=\"searchboxinput\"]').fill(search_for)\n",
    "        page.wait_for_timeout(5000)\n",
    "        \n",
    "        page.keyboard.press('Enter')\n",
    "        page.wait_for_timeout(5000)\n",
    "        \n",
    "        listings= page.locator('//div[@role=\"article\"]').all()\n",
    "        print(len(listings))\n",
    "        \n",
    "        \n",
    "        \n",
    "        browser.close()"
   ]
  },
  {
   "cell_type": "code",
   "execution_count": 37,
   "id": "e12af506",
   "metadata": {},
   "outputs": [],
   "source": [
    "if __name__==\"__enter__\":\n",
    "    \n",
    "    parser= argparse.ArgumentParser()\n",
    "    parser.add_argument(\"-s\",\"--search\", type=str)\n",
    "    parser.add_argument(\"-l\",\"--location\", type=str)\n",
    "    location, search= parser.parse_known_args()\n",
    "    \n",
    "    if location and search:\n",
    "        search_for= f'{location} {search}'\n",
    "    else:\n",
    "        search_for= 'dentist new york'\n",
    "    \n",
    "    asyncio.run(main())"
   ]
  },
  {
   "cell_type": "code",
   "execution_count": null,
   "id": "b2c51a2c",
   "metadata": {},
   "outputs": [],
   "source": []
  }
 ],
 "metadata": {
  "kernelspec": {
   "display_name": "Python 3 (ipykernel)",
   "language": "python",
   "name": "python3"
  },
  "language_info": {
   "codemirror_mode": {
    "name": "ipython",
    "version": 3
   },
   "file_extension": ".py",
   "mimetype": "text/x-python",
   "name": "python",
   "nbconvert_exporter": "python",
   "pygments_lexer": "ipython3",
   "version": "3.10.9"
  }
 },
 "nbformat": 4,
 "nbformat_minor": 5
}
